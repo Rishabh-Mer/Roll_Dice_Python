{
 "metadata": {
  "language_info": {
   "codemirror_mode": {
    "name": "ipython",
    "version": 3
   },
   "file_extension": ".py",
   "mimetype": "text/x-python",
   "name": "python",
   "nbconvert_exporter": "python",
   "pygments_lexer": "ipython3",
   "version": "3.7.6"
  },
  "orig_nbformat": 2,
  "kernelspec": {
   "name": "python376jvsc74a57bd0c6436f3c20611442dd4213dc7da6ad6cd6ff444c6dfb6ee1f0ac7656a045beb3",
   "display_name": "Python 3.7.6 64-bit ('py3': conda)"
  }
 },
 "nbformat": 4,
 "nbformat_minor": 2,
 "cells": [
  {
   "cell_type": "code",
   "execution_count": 22,
   "metadata": {},
   "outputs": [
    {
     "output_type": "stream",
     "name": "stdout",
     "text": [
      "Rolling the dice: \nvalue is: 6\n"
     ]
    }
   ],
   "source": [
    "import random\n",
    "start = 1\n",
    "stop = 6\n",
    "\n",
    "roll_again='yes'\n",
    "\n",
    "while roll_again=='yes' or roll_again=='y':\n",
    "    print('Rolling the dice: ')\n",
    "    dice = random.randint(start, stop)\n",
    "    print('value is:', dice)\n",
    "\n",
    "    roll_again = input('Roll the dice again??')\n",
    "\n"
   ]
  },
  {
   "cell_type": "code",
   "execution_count": null,
   "metadata": {},
   "outputs": [],
   "source": []
  }
 ]
}